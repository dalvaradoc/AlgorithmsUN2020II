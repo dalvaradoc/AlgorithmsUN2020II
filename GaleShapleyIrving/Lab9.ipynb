{
  "nbformat": 4,
  "nbformat_minor": 0,
  "metadata": {
    "colab": {
      "name": "Lab9",
      "provenance": [],
      "collapsed_sections": []
    },
    "kernelspec": {
      "name": "python3",
      "display_name": "Python 3"
    }
  },
  "cells": [
    {
      "cell_type": "markdown",
      "metadata": {
        "id": "mKrL8w4hVLUT"
      },
      "source": [
        "# LAB 9 Gale-Shapley and Irving Algorithms\n",
        "\n",
        "Diego Alejandro Alvarado Chaparro"
      ]
    },
    {
      "cell_type": "code",
      "metadata": {
        "id": "TERsE0C-1vCC"
      },
      "source": [
        "import numpy as np\n",
        "import random\n",
        "import matplotlib.pyplot as plt"
      ],
      "execution_count": 121,
      "outputs": []
    },
    {
      "cell_type": "markdown",
      "metadata": {
        "id": "2IUt3sYSUgRa"
      },
      "source": [
        "## PUNTO 1"
      ]
    },
    {
      "cell_type": "code",
      "metadata": {
        "id": "4ZOku_QXNkWY"
      },
      "source": [
        "#Gale-Shapley\n",
        "#Recibe dos matrices\n",
        "def gale_shapley(ml, women_lists):\n",
        "  #wl es un numpy array para saber más facilmente que prioridad tiene la mujer\n",
        "  #i-esima con el hombre j-esimo, ya que female_lists viene de forma \"3 2 1\"\n",
        "  #que quiere decir que prefiere estar más con el hombre 3, y si no con el 2,\n",
        "  #y de últimas con el 1. ml lo que hace es convertir eso a [3, 2, 1], para\n",
        "  #que al buscar que tanta prioridad tiene con el hombre 3 solo se busque wl[2]\n",
        "\n",
        "  n = len(women_lists)\n",
        "\n",
        "  wl = np.empty([n,n])\n",
        "\n",
        "  free_men = []\n",
        "  women_promised = [-1 for i in range(n)]\n",
        "\n",
        "  iterations = 0\n",
        "\n",
        "  for i,l in enumerate(women_lists):\n",
        "    for j,p in enumerate(women_lists[i]):\n",
        "      #Se asignan los valores de wl\n",
        "      wl[i][p-1] = j\n",
        "      #Inicialmente todos los hombres estan solteros\n",
        "    free_men.append(i)\n",
        "  \n",
        "  while free_men:\n",
        "    man_i = free_men.pop(0)\n",
        "    iterations = iterations + 1\n",
        "    prefered_by_man_i = ml[man_i][0] - 1\n",
        "    if women_promised[prefered_by_man_i] == -1:\n",
        "      women_promised[prefered_by_man_i] = man_i\n",
        "    else:\n",
        "      if wl[prefered_by_man_i][man_i] < wl[prefered_by_man_i][women_promised[prefered_by_man_i]]:\n",
        "        free_men.append(women_promised[prefered_by_man_i])\n",
        "        ml[women_promised[prefered_by_man_i]].pop(0)\n",
        "        women_promised[prefered_by_man_i] = man_i\n",
        "      else:\n",
        "        free_men.append(man_i)\n",
        "        ml[man_i].pop(0)\n",
        "\n",
        "  return [women_promised, iterations]"
      ],
      "execution_count": 119,
      "outputs": []
    },
    {
      "cell_type": "code",
      "metadata": {
        "colab": {
          "base_uri": "https://localhost:8080/"
        },
        "id": "cywxgKeY3Rgo",
        "outputId": "5598ab60-0556-4d23-f260-615be2c49049"
      },
      "source": [
        "#Test\n",
        "res = gale_shapley([[3,2,1],[1,2,3],[3,2,1]],[[3,2,1],[2,1,3],[3,1,2]])\n",
        "for w,m in enumerate(res[0]):\n",
        "  print(\"Hombre\",m+1, \"con Mujer\", w+1)\n",
        "print(\"En\", res[1], \"iteraciones\")"
      ],
      "execution_count": 120,
      "outputs": [
        {
          "output_type": "stream",
          "text": [
            "Hombre 2 con Mujer 1\n",
            "Hombre 1 con Mujer 2\n",
            "Hombre 3 con Mujer 3\n",
            "En 4 iteraciones\n"
          ],
          "name": "stdout"
        }
      ]
    },
    {
      "cell_type": "markdown",
      "metadata": {
        "id": "CTBDaccEVdXd"
      },
      "source": [
        "### Peor caso con n = 4"
      ]
    },
    {
      "cell_type": "code",
      "metadata": {
        "colab": {
          "base_uri": "https://localhost:8080/"
        },
        "id": "igKqDm2dVfws",
        "outputId": "f0d5edb6-89a1-442d-81a1-a3b62cb41d62"
      },
      "source": [
        "n4_worst_ml = [[1,2,3,4],[2,3,1,4],[3,1,2,4],[1,2,3,4]]\n",
        "n4_worst_wl = [[2,3,4,1],[3,4,1,2],[4,1,2,3],[1,2,3,4]]\n",
        "\n",
        "res = gale_shapley(n4_worst_ml, n4_worst_wl)\n",
        "for w,m in enumerate(res[0]):\n",
        "  print(\"Hombre\",m+1, \"con Mujer\", w+1)\n",
        "print(\"En\", res[1], \"iteraciones\")"
      ],
      "execution_count": 143,
      "outputs": [
        {
          "output_type": "stream",
          "text": [
            "Hombre 2 con Mujer 1\n",
            "Hombre 3 con Mujer 2\n",
            "Hombre 4 con Mujer 3\n",
            "Hombre 1 con Mujer 4\n",
            "En 13 iteraciones\n"
          ],
          "name": "stdout"
        }
      ]
    },
    {
      "cell_type": "markdown",
      "metadata": {
        "id": "siuPQi6KXiBS"
      },
      "source": [
        "### Peor caso con n = 40"
      ]
    },
    {
      "cell_type": "code",
      "metadata": {
        "colab": {
          "base_uri": "https://localhost:8080/"
        },
        "id": "e3Sq1oO0XkPp",
        "outputId": "6a1ba054-6dd8-42e7-e774-5f668b142726"
      },
      "source": [
        "n40_worst_ml = []\n",
        "n40_worst_wl = []\n",
        "\n",
        "normal_list_n40 = [i for i in range(1,41)]\n",
        "\n",
        "n40_worst_ml.append(normal_list_n40)\n",
        "#print(n40_worst_ml[0])\n",
        "\n",
        "for i in range(1,40):\n",
        "  n40_worst_ml.append(normal_list_n40[i:40-1] + normal_list_n40[:i] + [40])\n",
        "  #print(n40_worst_ml[i])\n",
        "\n",
        "for i in range(40):\n",
        "  n40_worst_wl.append(normal_list_n40[i+1:] + normal_list_n40[:i+1])\n",
        "  #print(n40_worst_wl[i])\n",
        "\n",
        "res = gale_shapley(n40_worst_ml, n40_worst_wl)\n",
        "for w,m in enumerate(res[0]):\n",
        "  print(\"Hombre\",m+1, \"con Mujer\", w+1)\n",
        "print(\"En\", res[1], \"iteraciones\")\n"
      ],
      "execution_count": 164,
      "outputs": [
        {
          "output_type": "stream",
          "text": [
            "Hombre 2 con Mujer 1\n",
            "Hombre 3 con Mujer 2\n",
            "Hombre 4 con Mujer 3\n",
            "Hombre 5 con Mujer 4\n",
            "Hombre 6 con Mujer 5\n",
            "Hombre 7 con Mujer 6\n",
            "Hombre 8 con Mujer 7\n",
            "Hombre 9 con Mujer 8\n",
            "Hombre 10 con Mujer 9\n",
            "Hombre 11 con Mujer 10\n",
            "Hombre 12 con Mujer 11\n",
            "Hombre 13 con Mujer 12\n",
            "Hombre 14 con Mujer 13\n",
            "Hombre 15 con Mujer 14\n",
            "Hombre 16 con Mujer 15\n",
            "Hombre 17 con Mujer 16\n",
            "Hombre 18 con Mujer 17\n",
            "Hombre 19 con Mujer 18\n",
            "Hombre 20 con Mujer 19\n",
            "Hombre 21 con Mujer 20\n",
            "Hombre 22 con Mujer 21\n",
            "Hombre 23 con Mujer 22\n",
            "Hombre 24 con Mujer 23\n",
            "Hombre 25 con Mujer 24\n",
            "Hombre 26 con Mujer 25\n",
            "Hombre 27 con Mujer 26\n",
            "Hombre 28 con Mujer 27\n",
            "Hombre 29 con Mujer 28\n",
            "Hombre 30 con Mujer 29\n",
            "Hombre 31 con Mujer 30\n",
            "Hombre 32 con Mujer 31\n",
            "Hombre 33 con Mujer 32\n",
            "Hombre 34 con Mujer 33\n",
            "Hombre 35 con Mujer 34\n",
            "Hombre 36 con Mujer 35\n",
            "Hombre 37 con Mujer 36\n",
            "Hombre 38 con Mujer 37\n",
            "Hombre 39 con Mujer 38\n",
            "Hombre 40 con Mujer 39\n",
            "Hombre 1 con Mujer 40\n",
            "En 1561 iteraciones\n"
          ],
          "name": "stdout"
        }
      ]
    },
    {
      "cell_type": "markdown",
      "metadata": {
        "id": "xcPat0U9N1Gl"
      },
      "source": [
        "## PUNTO 2"
      ]
    },
    {
      "cell_type": "code",
      "metadata": {
        "id": "Yb1eQmen6ASR"
      },
      "source": [
        "#Generar permutacion aleatoria\n",
        "def get_random_permutation(n):\n",
        "  normal_list = [i for i in range(1,n+1)]\n",
        "  permutation = []\n",
        "  for i in range(n):\n",
        "    e = random.choice(normal_list)\n",
        "    permutation.append(e)\n",
        "    normal_list.remove(e)\n",
        "  return permutation"
      ],
      "execution_count": 114,
      "outputs": []
    },
    {
      "cell_type": "markdown",
      "metadata": {
        "id": "Ri5zCaC6N9aV"
      },
      "source": [
        "### n = 4"
      ]
    },
    {
      "cell_type": "code",
      "metadata": {
        "colab": {
          "base_uri": "https://localhost:8080/",
          "height": 316
        },
        "id": "cTsVbMioNkfY",
        "outputId": "585777e7-4abe-415c-d52c-a8683fb359b9"
      },
      "source": [
        "iteraciones = np.empty(100)\n",
        "min_it = -1\n",
        "max_it = -1\n",
        "\n",
        "for i in range(100):\n",
        "  ml = []\n",
        "  wl = []\n",
        "  for j in range(4):\n",
        "    ml.append(get_random_permutation(4))\n",
        "    wl.append(get_random_permutation(4))\n",
        "  \n",
        "  res = gale_shapley(ml, wl)\n",
        "  iteraciones[i] = res[1]\n",
        "\n",
        "  if min_it == -1:\n",
        "    min_it = res[1]\n",
        "  \n",
        "  if min_it > res[1]:\n",
        "    min_it = res[1]\n",
        "  \n",
        "  if max_it < res[1]:\n",
        "    max_it = res[1]\n",
        "\n",
        "print(\"Mínimas iteraciones:\", min_it)\n",
        "print(\"Máximas iteraciones:\", max_it)\n",
        "print(\"Iteraciones promedio:\", iteraciones.mean())\n",
        "\n",
        "plt.hist(iteraciones);"
      ],
      "execution_count": 137,
      "outputs": [
        {
          "output_type": "stream",
          "text": [
            "Mínimas iteraciones: 4\n",
            "Máximas iteraciones: 12\n",
            "Iteraciones promedio: 6.73\n"
          ],
          "name": "stdout"
        },
        {
          "output_type": "display_data",
          "data": {
            "image/png": "[encoded data removed]",
            "text/plain": [
              "<Figure size 432x288 with 1 Axes>"
            ]
          },
          "metadata": {
            "tags": [],
            "needs_background": "light"
          }
        }
      ]
    },
    {
      "cell_type": "markdown",
      "metadata": {
        "id": "5kKQnxAmTbej"
      },
      "source": [
        "### n = 40"
      ]
    },
    {
      "cell_type": "code",
      "metadata": {
        "colab": {
          "base_uri": "https://localhost:8080/",
          "height": 316
        },
        "id": "9unT6ppiQDUH",
        "outputId": "e330fed9-6f08-4b26-a6ce-6290fa8a5dcb"
      },
      "source": [
        "iteraciones = np.empty(100)\n",
        "min_it = -1\n",
        "max_it = -1\n",
        "\n",
        "for i in range(100):\n",
        "  ml = []\n",
        "  wl = []\n",
        "  for j in range(40):\n",
        "    ml.append(get_random_permutation(40))\n",
        "    wl.append(get_random_permutation(40))\n",
        "  \n",
        "  res = gale_shapley(ml, wl)\n",
        "  iteraciones[i] = res[1]\n",
        "\n",
        "  if min_it == -1:\n",
        "    min_it = res[1]\n",
        "  \n",
        "  if min_it > res[1]:\n",
        "    min_it = res[1]\n",
        "  \n",
        "  if max_it < res[1]:\n",
        "    max_it = res[1]\n",
        "\n",
        "print(\"Mínimas iteraciones:\", min_it)\n",
        "print(\"Máximas iteraciones:\", max_it)\n",
        "print(\"Iteraciones promedio:\", iteraciones.mean())\n",
        "\n",
        "plt.hist(iteraciones);"
      ],
      "execution_count": 140,
      "outputs": [
        {
          "output_type": "stream",
          "text": [
            "Mínimas iteraciones: 90\n",
            "Máximas iteraciones: 264\n",
            "Iteraciones promedio: 154.93\n"
          ],
          "name": "stdout"
        },
        {
          "output_type": "display_data",
          "data": {
            "image/png": "[encoded data removed]",
            "text/plain": [
              "<Figure size 432x288 with 1 Axes>"
            ]
          },
          "metadata": {
            "tags": [],
            "needs_background": "light"
          }
        }
      ]
    }
  ]
}